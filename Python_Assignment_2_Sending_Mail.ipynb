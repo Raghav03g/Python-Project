{
  "nbformat": 4,
  "nbformat_minor": 0,
  "metadata": {
    "colab": {
      "name": "Python_Assignment 2-Sending Mail.ipynb",
      "provenance": [],
      "collapsed_sections": [],
      "include_colab_link": true
    },
    "kernelspec": {
      "name": "python3",
      "display_name": "Python 3"
    },
    "language_info": {
      "name": "python"
    }
  },
  "cells": [
    {
      "cell_type": "markdown",
      "metadata": {
        "id": "view-in-github",
        "colab_type": "text"
      },
      "source": [
        "<a href=\"https://colab.research.google.com/github/Raghav03g/Python-Project/blob/main/Python_Assignment_2_Sending_Mail.ipynb\" target=\"_parent\"><img src=\"https://colab.research.google.com/assets/colab-badge.svg\" alt=\"Open In Colab\"/></a>"
      ]
    },
    {
      "cell_type": "code",
      "metadata": {
        "id": "T7FUjAX4HO_5"
      },
      "source": [
        "#We can integrate this python code with HTML\n",
        "#which will enable the users to ask their queries and \n",
        "#send their requests directly from the website.\n",
        "\n",
        "#We donot need to open gmail/any other mailing account.\n",
        "\n",
        "#This will enhance the user experience and \n",
        "#provide ease of access to the users.\n",
        "\n",
        "import smtplib\n",
        "from email.message import EmailMessage\n",
        "\n",
        "# import module sys to get the type of exception\n",
        "import sys"
      ],
      "execution_count": null,
      "outputs": []
    },
    {
      "cell_type": "code",
      "metadata": {
        "id": "E4gkvgxgKzd0"
      },
      "source": [
        "def send_email(user, userid, pwd, recipient, subject, body):\n",
        "\n",
        "    FROM = user\n",
        "    TO = recipient if isinstance(recipient, list) else [recipient]\n",
        "    SUBJECT = subject\n",
        "    TEXT = body\n",
        "\n",
        "    # Prepare actual message\n",
        "    message = \"\"\"From: %s\\nTo: %s\\nSubject: %s\\n\\n%s\n",
        "    \"\"\" % (FROM, \", \".join(TO), SUBJECT, TEXT)\n",
        "    try:\n",
        "        server = smtplib.SMTP(\"smtp.gmail.com\", 587)\n",
        "        server.ehlo() ## server object\n",
        "        server.starttls() ## used to send data between server and client\n",
        "        server.login(userid, pwd) ## login id and password of gmail\n",
        "        server.sendmail(FROM, TO, message) ## Sending email\n",
        "        server.close()\n",
        "        print(\"successfully sent the mail\") ## Printing success message\n",
        "    except:\n",
        "        print(\"failed to send mail\") ## Printing failure message\n",
        "        print(\"Oops!\", sys.exc_info()[0], \"occurred.\")"
      ],
      "execution_count": null,
      "outputs": []
    },
    {
      "cell_type": "code",
      "metadata": {
        "id": "zlEUK06iLKrE"
      },
      "source": [
        "useremail = \"\"\n",
        "#Sender and reciever emails both are fixed.\n",
        "#User just has to provide his/her email and fill other required spaces\n",
        "userid = \"@gmail.com\" ## Sender                               \n",
        "pwd = \"\" #pwd = app-password\n",
        "#app-password has to be enabled in gmail settings after \n",
        "#enabling 2-step varification for the sender email\n",
        "recipient = \"@gmail.com\" ## Receiver\n",
        "subject = \"subject1\" ## Subject of email\n",
        "body = \"body\" ## content of email"
      ],
      "execution_count": null,
      "outputs": []
    },
    {
      "cell_type": "code",
      "metadata": {
        "colab": {
          "base_uri": "https://localhost:8080/"
        },
        "id": "azdyUvW7LxI_",
        "outputId": "cd317794-cdae-47e7-c77d-1763645a8055"
      },
      "source": [
        "send_email(useremail, userid, pwd, recipient, subject, body)"
      ],
      "execution_count": null,
      "outputs": [
        {
          "output_type": "stream",
          "name": "stdout",
          "text": [
            "successfully sent the mail\n"
          ]
        }
      ]
    },
    {
      "cell_type": "code",
      "metadata": {
        "id": "gVrvtCxgOHLH"
      },
      "source": [
        ""
      ],
      "execution_count": null,
      "outputs": []
    }
  ]
}